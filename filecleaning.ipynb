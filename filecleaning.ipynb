{
 "cells": [
  {
   "cell_type": "code",
   "execution_count": null,
   "metadata": {},
   "outputs": [],
   "source": [
    "# Read the text from combined.txt\n",
    "with open('combined.txt', 'r') as file:\n",
    "    text = file.read().lower()\n",
    "\n",
    "# Split the text into words\n",
    "words = text.split() \n",
    "\n",
    "# Get the number of words\n",
    "num_words = len(words)\n",
    "\n",
    "print(f\"Total number of words in combined.txt: {num_words}\")"
   ]
  },
  {
   "cell_type": "code",
   "execution_count": null,
   "metadata": {},
   "outputs": [],
   "source": [
    "# Read the original text from combined.txt\n",
    "with open('combined.txt', 'r') as file:\n",
    "    text = file.read().lower()\n",
    "\n",
    "# Split the text into words\n",
    "words = text.split()\n",
    "\n",
    "# Define the number of words per line\n",
    "words_per_line = 15\n",
    "\n",
    "# Initialize an empty list to store the lines\n",
    "lines = []\n",
    "\n",
    "# Break the words into lines of 15 words each\n",
    "for i in range(0, len(words), words_per_line):\n",
    "    line = ' '.join(words[i:i+words_per_line])\n",
    "    lines.append(line)\n",
    "\n",
    "# Write the output to a new file\n",
    "with open('formatted_combined.txt', 'w') as file:\n",
    "    for line in lines:\n",
    "        file.write(line + '\\n')\n",
    "\n",
    "print(f\"Text has been formatted with {words_per_line} words per line and saved to 'formatted_combined.txt'\")"
   ]
  },
  {
   "cell_type": "code",
   "execution_count": null,
   "metadata": {},
   "outputs": [],
   "source": [
    "# Code for combining all the text files in a folder into a single text file\n",
    "import os\n",
    "\n",
    "# Folder containing text files\n",
    "folder_path = \"Sahitya\"\n",
    "output_file = \"combined.txt\"\n",
    "\n",
    "# Get list of files from 1.txt to 1000.txt\n",
    "file_list = [os.path.join(folder_path, f\"{i}.txt\") for i in range(1, 1001)]\n",
    "\n",
    "# Open output file in write mode\n",
    "with open(output_file, \"w\", encoding=\"utf-8\") as outfile:\n",
    "    for file_name in file_list:\n",
    "        if os.path.exists(file_name):  # Check if file exists\n",
    "            with open(file_name, \"r\", encoding=\"utf-8\") as infile:\n",
    "                outfile.write(infile.read() + \"\\n\")  # Read and write content with a newline\n",
    "        else:\n",
    "            print(f\"Warning: {file_name} not found!\")\n",
    "\n",
    "print(f\"All files combined into {output_file}\")"
   ]
  }
 ],
 "metadata": {
  "kernelspec": {
   "display_name": "myenv",
   "language": "python",
   "name": "python3"
  },
  "language_info": {
   "name": "python",
   "version": "3.12.8"
  }
 },
 "nbformat": 4,
 "nbformat_minor": 2
}
